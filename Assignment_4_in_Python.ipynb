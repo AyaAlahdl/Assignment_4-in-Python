{
  "nbformat": 4,
  "nbformat_minor": 0,
  "metadata": {
    "colab": {
      "provenance": []
    },
    "kernelspec": {
      "name": "python3",
      "display_name": "Python 3"
    },
    "language_info": {
      "name": "python"
    }
  },
  "cells": [
    {
      "cell_type": "markdown",
      "source": [
        "1: Rectangle and Parallelepiped Classes"
      ],
      "metadata": {
        "id": "SjlR2V4BL0sR"
      }
    },
    {
      "cell_type": "code",
      "execution_count": 53,
      "metadata": {
        "colab": {
          "base_uri": "https://localhost:8080/"
        },
        "id": "90R-puQrJtrE",
        "outputId": "9a907731-f3a9-445f-f768-a0eb94dca458"
      },
      "outputs": [
        {
          "output_type": "stream",
          "name": "stdout",
          "text": [
            "Length: 10, Width: 5\n",
            "Perimeter: 30\n",
            "Area: 50\n",
            "Volume: 150\n"
          ]
        }
      ],
      "source": [
        "\n",
        "\n",
        "class Rectangle:\n",
        "    def __init__(self, length, width):\n",
        "        self.length = length\n",
        "        self.width = width\n",
        "\n",
        "    def Perimeter(self):\n",
        "        return 2 * (self.length + self.width)\n",
        "\n",
        "    def Area(self):\n",
        "        return self.length * self.width\n",
        "\n",
        "    def display(self):\n",
        "        print(f\"Length: {self.length}, Width: {self.width}\")\n",
        "        print(f\"Perimeter: {self.Perimeter()}\")\n",
        "        print(f\"Area: {self.Area()}\")\n",
        "\n",
        "class Parallelepipede(Rectangle):\n",
        "    def __init__(self, length, width, height):\n",
        "        super().__init__(length, width)\n",
        "        self.height = height\n",
        "\n",
        "    def Volume(self):\n",
        "        return self.Area() * self.height\n",
        "\n",
        "# Example usage:\n",
        "rectangle = Rectangle(10, 5)\n",
        "rectangle.display()\n",
        "\n",
        "parallelepipede = Parallelepipede(10, 5, 3)\n",
        "print(f\"Volume: {parallelepipede.Volume()}\")\n",
        "\n",
        "\n"
      ]
    },
    {
      "cell_type": "markdown",
      "source": [
        "2: Person and Student Classes"
      ],
      "metadata": {
        "id": "I9EALfKee93D"
      }
    },
    {
      "cell_type": "code",
      "source": [
        "class Person:\n",
        "    def __init__(self, name, age):\n",
        "        self.name = name\n",
        "        self.age = age\n",
        "\n",
        "    def display(self):\n",
        "        print(f\"Name: {self.name}, Age: {self.age}\")\n",
        "\n",
        "class Student(Person):\n",
        "    def __init__(self, name, age, section):\n",
        "        super().__init__(name, age)\n",
        "        self.section = section\n",
        "\n",
        "    def displayStudent(self):\n",
        "        print(f\"Name: {self.name}, Age: {self.age}, Section: {self.section}\")\n",
        "\n",
        "\n",
        "student = Student(\"John Doe\", 20, \"A1\")\n",
        "student.displayStudent()\n"
      ],
      "metadata": {
        "colab": {
          "base_uri": "https://localhost:8080/"
        },
        "id": "d13L4-2ee5Y1",
        "outputId": "dc0eaffe-e25d-4ee9-ef63-5ae1eb69a341"
      },
      "execution_count": 52,
      "outputs": [
        {
          "output_type": "stream",
          "name": "stdout",
          "text": [
            "Name: John Doe, Age: 20, Section: A1\n"
          ]
        }
      ]
    },
    {
      "cell_type": "markdown",
      "source": [
        "3: Computation Class"
      ],
      "metadata": {
        "id": "fbUGBFtoe0Zg"
      }
    },
    {
      "cell_type": "code",
      "source": [
        "class Computation:\n",
        "    @staticmethod\n",
        "    def Factorial(n):\n",
        "        if n == 0 or n == 1:\n",
        "            return 1\n",
        "        return n * Computation.Factorial(n - 1)\n",
        "\n",
        "    @staticmethod\n",
        "    def Sum(n):\n",
        "        return sum(range(1, n + 1))\n",
        "\n",
        "    @staticmethod\n",
        "    def testPrim(n):\n",
        "        if n <= 1:\n",
        "            return False\n",
        "        for i in range(2, int(n**0.5) + 1):\n",
        "            if n % i == 0:\n",
        "                return False\n",
        "        return True\n",
        "\n",
        "    @staticmethod\n",
        "    def testPrims(a, b):\n",
        "        return Computation.testPrim(a) and Computation.testPrim(b)\n",
        "\n",
        "    @staticmethod\n",
        "    def tableMult(n):\n",
        "        for i in range(1, 11):\n",
        "            print(f\"{n} x {i} = {n * i}\")\n",
        "\n",
        "    @staticmethod\n",
        "    def allTablesMult():\n",
        "        for i in range(1, 10):\n",
        "            print(f\"\\nMultiplication Table for {i}\")\n",
        "            Computation.tableMult(i)\n",
        "\n",
        "    @staticmethod\n",
        "    def listDiv(n):\n",
        "        return [i for i in range(1, n + 1) if n % i == 0]\n",
        "\n",
        "    @staticmethod\n",
        "    def listDivPrim(n):\n",
        "        return [i for i in Computation.listDiv(n) if Computation.testPrim(i)]\n",
        "\n",
        "\n",
        "comp = Computation()\n",
        "print(comp.Factorial(5))\n",
        "print(comp.Sum(10))\n",
        "print(comp.testPrim(7))\n",
        "print(comp.testPrims(7, 11))\n",
        "comp.tableMult(5)\n",
        "comp.allTablesMult()\n",
        "print(comp.listDiv(12))\n",
        "print(comp.listDivPrim(12))"
      ],
      "metadata": {
        "colab": {
          "base_uri": "https://localhost:8080/"
        },
        "id": "eY88VH4pekuD",
        "outputId": "9d811990-1996-4e2c-eaba-a949ce517f88"
      },
      "execution_count": 51,
      "outputs": [
        {
          "output_type": "stream",
          "name": "stdout",
          "text": [
            "120\n",
            "55\n",
            "True\n",
            "True\n",
            "5 x 1 = 5\n",
            "5 x 2 = 10\n",
            "5 x 3 = 15\n",
            "5 x 4 = 20\n",
            "5 x 5 = 25\n",
            "5 x 6 = 30\n",
            "5 x 7 = 35\n",
            "5 x 8 = 40\n",
            "5 x 9 = 45\n",
            "5 x 10 = 50\n",
            "\n",
            "Multiplication Table for 1\n",
            "1 x 1 = 1\n",
            "1 x 2 = 2\n",
            "1 x 3 = 3\n",
            "1 x 4 = 4\n",
            "1 x 5 = 5\n",
            "1 x 6 = 6\n",
            "1 x 7 = 7\n",
            "1 x 8 = 8\n",
            "1 x 9 = 9\n",
            "1 x 10 = 10\n",
            "\n",
            "Multiplication Table for 2\n",
            "2 x 1 = 2\n",
            "2 x 2 = 4\n",
            "2 x 3 = 6\n",
            "2 x 4 = 8\n",
            "2 x 5 = 10\n",
            "2 x 6 = 12\n",
            "2 x 7 = 14\n",
            "2 x 8 = 16\n",
            "2 x 9 = 18\n",
            "2 x 10 = 20\n",
            "\n",
            "Multiplication Table for 3\n",
            "3 x 1 = 3\n",
            "3 x 2 = 6\n",
            "3 x 3 = 9\n",
            "3 x 4 = 12\n",
            "3 x 5 = 15\n",
            "3 x 6 = 18\n",
            "3 x 7 = 21\n",
            "3 x 8 = 24\n",
            "3 x 9 = 27\n",
            "3 x 10 = 30\n",
            "\n",
            "Multiplication Table for 4\n",
            "4 x 1 = 4\n",
            "4 x 2 = 8\n",
            "4 x 3 = 12\n",
            "4 x 4 = 16\n",
            "4 x 5 = 20\n",
            "4 x 6 = 24\n",
            "4 x 7 = 28\n",
            "4 x 8 = 32\n",
            "4 x 9 = 36\n",
            "4 x 10 = 40\n",
            "\n",
            "Multiplication Table for 5\n",
            "5 x 1 = 5\n",
            "5 x 2 = 10\n",
            "5 x 3 = 15\n",
            "5 x 4 = 20\n",
            "5 x 5 = 25\n",
            "5 x 6 = 30\n",
            "5 x 7 = 35\n",
            "5 x 8 = 40\n",
            "5 x 9 = 45\n",
            "5 x 10 = 50\n",
            "\n",
            "Multiplication Table for 6\n",
            "6 x 1 = 6\n",
            "6 x 2 = 12\n",
            "6 x 3 = 18\n",
            "6 x 4 = 24\n",
            "6 x 5 = 30\n",
            "6 x 6 = 36\n",
            "6 x 7 = 42\n",
            "6 x 8 = 48\n",
            "6 x 9 = 54\n",
            "6 x 10 = 60\n",
            "\n",
            "Multiplication Table for 7\n",
            "7 x 1 = 7\n",
            "7 x 2 = 14\n",
            "7 x 3 = 21\n",
            "7 x 4 = 28\n",
            "7 x 5 = 35\n",
            "7 x 6 = 42\n",
            "7 x 7 = 49\n",
            "7 x 8 = 56\n",
            "7 x 9 = 63\n",
            "7 x 10 = 70\n",
            "\n",
            "Multiplication Table for 8\n",
            "8 x 1 = 8\n",
            "8 x 2 = 16\n",
            "8 x 3 = 24\n",
            "8 x 4 = 32\n",
            "8 x 5 = 40\n",
            "8 x 6 = 48\n",
            "8 x 7 = 56\n",
            "8 x 8 = 64\n",
            "8 x 9 = 72\n",
            "8 x 10 = 80\n",
            "\n",
            "Multiplication Table for 9\n",
            "9 x 1 = 9\n",
            "9 x 2 = 18\n",
            "9 x 3 = 27\n",
            "9 x 4 = 36\n",
            "9 x 5 = 45\n",
            "9 x 6 = 54\n",
            "9 x 7 = 63\n",
            "9 x 8 = 72\n",
            "9 x 9 = 81\n",
            "9 x 10 = 90\n",
            "[1, 2, 3, 4, 6, 12]\n",
            "[2, 3]\n"
          ]
        }
      ]
    },
    {
      "cell_type": "markdown",
      "source": [
        "4: Longest Common Subsequence"
      ],
      "metadata": {
        "id": "4RAxD-ydeXAF"
      }
    },
    {
      "cell_type": "code",
      "source": [
        "def longest_common_subsequence(s1, s2):\n",
        "    m, n = len(s1), len(s2)\n",
        "    dp = [[0] * (n + 1) for _ in range(m + 1)]\n",
        "\n",
        "    for i in range(1, m + 1):\n",
        "        for j in range(1, n + 1):\n",
        "            if s1[i - 1] == s2[j - 1]:\n",
        "                dp[i][j] = dp[i - 1][j - 1] + 1\n",
        "            else:\n",
        "                dp[i][j] = max(dp[i - 1][j], dp[i][j - 1])\n",
        "\n",
        "\n",
        "    i, j = m, n\n",
        "    lcs = []\n",
        "    while i > 0 and j > 0:\n",
        "        if s1[i - 1] == s2[j - 1]:\n",
        "            lcs.append(s1[i - 1])\n",
        "            i -= 1\n",
        "            j -= 1\n",
        "        elif dp[i - 1][j] > dp[i][j - 1]:\n",
        "            i -= 1\n",
        "        else:\n",
        "            j -= 1\n",
        "\n",
        "    return ''.join(reversed(lcs))\n",
        "\n",
        "\n",
        "s1 = \"AGGTAB\"\n",
        "s2 = \"GXTXAYB\"\n",
        "print(longest_common_subsequence(s1, s2))"
      ],
      "metadata": {
        "colab": {
          "base_uri": "https://localhost:8080/"
        },
        "id": "STApBQr9eRd4",
        "outputId": "96d14782-8b08-4191-c2a3-fd8484c919f5"
      },
      "execution_count": 50,
      "outputs": [
        {
          "output_type": "stream",
          "name": "stdout",
          "text": [
            "GTAB\n"
          ]
        }
      ]
    }
  ]
}